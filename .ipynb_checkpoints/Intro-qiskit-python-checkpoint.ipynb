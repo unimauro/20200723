{
 "cells": [
  {
   "cell_type": "markdown",
   "metadata": {},
   "source": [
    "\n",
    "## <center>qiskit demo with Python</center>\n",
    "## <center>Building a circuit - Running a circuit - Reading results </center>\n",
    "\n",
    "### <span style=\"color:blue\"><em>Jean-Michel Torres, IBM Q Hub France, torresjm@fr.ibm.com</em></span>\n"
   ]
  },
  {
   "cell_type": "markdown",
   "metadata": {},
   "source": [
    "<div class=\"alert alert-block alert-success\">\n",
    "    \n",
    "# 1. \"Hello World\" quantum computing with Python and  qiskit.\n",
    "</div>"
   ]
  },
  {
   "cell_type": "markdown",
   "metadata": {},
   "source": [
    "### Let's import what we need from qiskit library\n",
    "\n",
    "<ul>\n",
    "    <li>QuantumRegister : define and use qubits register </li>\n",
    "    <li>ClassicalRegister : to perform measurement into </li>\n",
    "    <li>QuantumCircuit : to build out circuit</li>\n",
    "    <li>execute : method for circuit execution</li>\n",
    "    <li>A backend to execute on, here we are using the local simulator provided within the \"Aer\" qiskit component </li> \n",
    "    <li>and tool for results display</li> \n",
    "</ul>"
   ]
  },
  {
   "cell_type": "code",
   "execution_count": 1,
   "metadata": {
    "slideshow": {
     "slide_type": "-"
    }
   },
   "outputs": [],
   "source": [
    "%matplotlib inline\n",
    "from qiskit import QuantumRegister, ClassicalRegister, QuantumCircuit\n",
    "from qiskit import Aer, execute\n",
    "backend = Aer.get_backend('qasm_simulator')\n",
    "from qiskit.tools.visualization import plot_histogram"
   ]
  },
  {
   "cell_type": "markdown",
   "metadata": {},
   "source": [
    "### make instance of the required objects, including the quantum circuit, and let's add quantum gates to it: \n",
    "\n",
    "example  : `circ.x(qr[0])` for X gate, `circ.h(qr[0])` for H gate, `circ.cx(qr[0],qr[1])` for CNOT and  `circ.measure(qr,cr)` for measurement. "
   ]
  },
  {
   "cell_type": "code",
   "execution_count": 2,
   "metadata": {},
   "outputs": [],
   "source": [
    "\n",
    "qr = QuantumRegister(2)\n",
    "cr = ClassicalRegister(2)\n",
    "\n",
    "qc = QuantumCircuit(qr,cr)\n",
    "\n",
    "\n",
    "qc.draw"
   ]
  },
  {
   "cell_type": "code",
   "execution_count": null,
   "metadata": {
    "scrolled": true
   },
   "outputs": [],
   "source": [
    "# execution and result \n",
    "resultat = execute(qc,backend,shots=1011).result()\n",
    "\n",
    "d = resultat.get_counts(qc)\n",
    "d"
   ]
  },
  {
   "cell_type": "code",
   "execution_count": null,
   "metadata": {
    "scrolled": true
   },
   "outputs": [],
   "source": [
    "plot_histogram(resultat.get_counts(qc))"
   ]
  },
  {
   "cell_type": "markdown",
   "metadata": {},
   "source": [
    "<div class=\"alert alert-block alert-success\">\n",
    "\n",
    "# 2. H+Cx on a real device, demo\n",
    "</div>"
   ]
  },
  {
   "cell_type": "markdown",
   "metadata": {},
   "source": [
    "\n",
    "Go to IBM Q Experience website : [here](https://quantum-computing.ibm.com).\n",
    "\n",
    "Register with your choice of access method (IBMid, . If you agree accept the conditions for using IBM Q Experience.\n",
    "\n",
    "![IBM Q Experience homepage](./IBMQX.png)*IBM Q Experience home page*\n",
    "\n",
    "On the upper right corner go to \"My Account\":\n",
    "\n",
    "![API Key](./API_Token.png)*Copy your API Key from here*\n"
   ]
  },
  {
   "cell_type": "code",
   "execution_count": null,
   "metadata": {},
   "outputs": [],
   "source": [
    "# required librairies\n",
    "%matplotlib inline\n",
    "from qiskit import QuantumRegister, QuantumCircuit, ClassicalRegister\n",
    "from qiskit import execute\n",
    "from qiskit.providers.ibmq import least_busy"
   ]
  },
  {
   "cell_type": "code",
   "execution_count": null,
   "metadata": {},
   "outputs": [],
   "source": [
    "# building Bell state\n",
    "qc = QuantumCircuit(2,2)\n",
    "\n",
    "qc.h([0])\n",
    "qc.cx([0],[1])\n",
    "\n",
    "qc.measure([0,1],[0,1])\n",
    "qc.draw(output='mpl')"
   ]
  },
  {
   "cell_type": "code",
   "execution_count": null,
   "metadata": {},
   "outputs": [],
   "source": [
    "# IBMQ module helps manage your IBM Q account data from your workstation. \n",
    "from qiskit import IBMQ"
   ]
  },
  {
   "cell_type": "code",
   "execution_count": null,
   "metadata": {},
   "outputs": [],
   "source": [
    "IBMQ.stored_account()"
   ]
  },
  {
   "cell_type": "markdown",
   "metadata": {},
   "source": [
    "<div class=\"alert alert-block alert-warning\">\n",
    "IBMQ.stored.account() will not work at first time, you need to execute the following (only on time) : "
   ]
  },
  {
   "cell_type": "code",
   "execution_count": null,
   "metadata": {},
   "outputs": [],
   "source": [
    "#MY_API_TOKEN= '* * * paste you API token here * * *'\n",
    "#IBMQ.save_account(MY_API_TOKEN, overwrite=True)"
   ]
  },
  {
   "cell_type": "code",
   "execution_count": null,
   "metadata": {},
   "outputs": [],
   "source": [
    "# If you had an account activated before qiskit version 0.11 then you need to run this (once for all): \n",
    "#IBMQ.update_account()"
   ]
  },
  {
   "cell_type": "code",
   "execution_count": null,
   "metadata": {},
   "outputs": [],
   "source": [
    "IBMQ.load_account()"
   ]
  },
  {
   "cell_type": "code",
   "execution_count": null,
   "metadata": {},
   "outputs": [],
   "source": [
    "# choose one available provider\n",
    "selected_provider = IBMQ.get_provider(hub='ibm-q')"
   ]
  },
  {
   "cell_type": "code",
   "execution_count": null,
   "metadata": {},
   "outputs": [],
   "source": [
    "# list backends available for this provider\n",
    "selected_provider.backends()"
   ]
  },
  {
   "cell_type": "code",
   "execution_count": null,
   "metadata": {},
   "outputs": [],
   "source": [
    "# small program to get backends configs and status\n",
    "# using least_busy() is more straightforward, this is to show\n",
    "# how we get info from the provider's backends\n",
    "\n",
    "sp = IBMQ.get_provider(hub='ibm-q')   # selected provider\n",
    "\n",
    "backends_set = set()\n",
    "for b in selected_provider.backends():\n",
    "    backends_set.add(str(b))\n",
    "   \n",
    "print(\"backend name        queue qubits operational status message\")\n",
    "print(\"------------------- ----- ------ ----------- --------------\")\n",
    "for b in backends_set: \n",
    "    be = sp.get_backend(b)\n",
    "    pj = be.status().pending_jobs\n",
    "    qb = be.configuration().n_qubits\n",
    "    op = be.status().operational \n",
    "    sm = be.status().status_msg\n",
    "    print(f\"{b:20} {pj:4} {qb:6}{op:12} {sm:6}\")"
   ]
  },
  {
   "cell_type": "code",
   "execution_count": null,
   "metadata": {},
   "outputs": [],
   "source": [
    "# choose best backend (can use least_busy() as well ):\n",
    "backend = least_busy(sp.backends(filters=lambda x: \n",
    "                                 x.configuration().n_qubits >= 2 \n",
    "                                 and not x.configuration().simulator \n",
    "                                 and x.status().operational==True ))\n",
    "backend.name()"
   ]
  },
  {
   "cell_type": "code",
   "execution_count": null,
   "metadata": {},
   "outputs": [],
   "source": [
    "# execution\n",
    "\n",
    "from qiskit.tools.monitor import job_monitor\n",
    "\n",
    "job = execute(qc,backend, shots=1000)\n",
    "\n",
    "print(job.job_id())\n",
    "\n",
    "job_monitor(job)\n"
   ]
  },
  {
   "cell_type": "code",
   "execution_count": null,
   "metadata": {},
   "outputs": [],
   "source": [
    "## lit le résultat\n",
    "res = job.result()"
   ]
  },
  {
   "cell_type": "code",
   "execution_count": null,
   "metadata": {},
   "outputs": [],
   "source": [
    "from qiskit.tools.visualization import plot_histogram\n",
    "\n",
    "d = (res.get_counts(qc))\n",
    "plot_histogram(d)"
   ]
  },
  {
   "cell_type": "markdown",
   "metadata": {},
   "source": [
    "<div class=\"alert alert-block alert-danger\">\n",
    "\n",
    "### Just in case we run out of time: "
   ]
  },
  {
   "cell_type": "code",
   "execution_count": null,
   "metadata": {},
   "outputs": [],
   "source": [
    "from IPython.display import Image, display\n",
    "print(\"past result for the same experience:\")\n",
    "filename = './bellResult.png'\n",
    "display(Image(filename=filename))"
   ]
  }
 ],
 "metadata": {
  "kernelspec": {
   "display_name": "Python 3",
   "language": "python",
   "name": "python3"
  },
  "language_info": {
   "codemirror_mode": {
    "name": "ipython",
    "version": 3
   },
   "file_extension": ".py",
   "mimetype": "text/x-python",
   "name": "python",
   "nbconvert_exporter": "python",
   "pygments_lexer": "ipython3",
   "version": "3.7.3"
  }
 },
 "nbformat": 4,
 "nbformat_minor": 2
}
